{
 "cells": [
  {
   "cell_type": "code",
   "execution_count": 3,
   "id": "611542ce-a38f-4c39-8aba-470abe3d8184",
   "metadata": {},
   "outputs": [
    {
     "name": "stdout",
     "output_type": "stream",
     "text": [
      "Hello Data Science World!!\n"
     ]
    }
   ],
   "source": [
    "print(\"Hello Data Science World!!\")"
   ]
  },
  {
   "cell_type": "code",
   "execution_count": 2,
   "id": "7e35710d-d386-404f-9aaf-7c9f82128d32",
   "metadata": {},
   "outputs": [
    {
     "name": "stdout",
     "output_type": "stream",
     "text": [
      "Machine Learning\n"
     ]
    }
   ],
   "source": [
    "print(\"Machine Learning\")"
   ]
  },
  {
   "cell_type": "code",
   "execution_count": 10,
   "id": "136370b5-7973-4b7b-aa56-b2514699b7e9",
   "metadata": {},
   "outputs": [
    {
     "name": "stdout",
     "output_type": "stream",
     "text": [
      "Data Science\n"
     ]
    }
   ],
   "source": [
    "print(\"Data Science\")"
   ]
  },
  {
   "cell_type": "code",
   "execution_count": 5,
   "id": "57694a53-9b66-4572-ac1b-026cee118d7f",
   "metadata": {},
   "outputs": [
    {
     "name": "stdout",
     "output_type": "stream",
     "text": [
      "Nikita Ganesh Kamble\n"
     ]
    }
   ],
   "source": [
    "print(\"Nikita Ganesh Kamble\")"
   ]
  },
  {
   "cell_type": "code",
   "execution_count": 6,
   "id": "2fd3a88f-f3f7-462c-a0e5-329d3542e67b",
   "metadata": {},
   "outputs": [
    {
     "data": {
      "text/plain": [
       "35"
      ]
     },
     "execution_count": 6,
     "metadata": {},
     "output_type": "execute_result"
    }
   ],
   "source": [
    "10+25"
   ]
  },
  {
   "cell_type": "code",
   "execution_count": 8,
   "id": "5c23e3b0-4dc0-4677-b524-705377af922d",
   "metadata": {},
   "outputs": [
    {
     "data": {
      "text/plain": [
       "1"
      ]
     },
     "execution_count": 8,
     "metadata": {},
     "output_type": "execute_result"
    }
   ],
   "source": [
    "25-24"
   ]
  },
  {
   "cell_type": "code",
   "execution_count": 9,
   "id": "cb815ea7-b50f-447e-820f-ce27e873ec70",
   "metadata": {},
   "outputs": [
    {
     "data": {
      "text/plain": [
       "6.0"
      ]
     },
     "execution_count": 9,
     "metadata": {},
     "output_type": "execute_result"
    }
   ],
   "source": [
    "24/4"
   ]
  },
  {
   "cell_type": "markdown",
   "id": "e3fa6792-2e50-4cab-8b3d-51460bf6e8e3",
   "metadata": {},
   "source": [
    "Shortcuts"
   ]
  },
  {
   "cell_type": "markdown",
   "id": "f8b0ce5b-2b14-4de9-a63b-4b3c24d4856b",
   "metadata": {},
   "source": [
    "add a cell above the current cell- ESC+A\n",
    "add a cell below the current cell- ESC+B\n",
    "delete a cell- ESC+D+D\n",
    "run a cell- ctrl+enter or shift+enter"
   ]
  }
 ],
 "metadata": {
  "kernelspec": {
   "display_name": "Python 3 (ipykernel)",
   "language": "python",
   "name": "python3"
  },
  "language_info": {
   "codemirror_mode": {
    "name": "ipython",
    "version": 3
   },
   "file_extension": ".py",
   "mimetype": "text/x-python",
   "name": "python",
   "nbconvert_exporter": "python",
   "pygments_lexer": "ipython3",
   "version": "3.11.7"
  }
 },
 "nbformat": 4,
 "nbformat_minor": 5
}
